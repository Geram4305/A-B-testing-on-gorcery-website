{
 "cells": [
  {
   "cell_type": "code",
   "execution_count": 89,
   "id": "a7cbb068",
   "metadata": {},
   "outputs": [],
   "source": [
    "#Importing necessary libraries\n",
    "import numpy as np\n",
    "import pandas as pd \n",
    "import itertools\n",
    "import matplotlib.pyplot as plt\n",
    "import seaborn as sns\n",
    "import statsmodels.stats.api as sms\n",
    "from scipy.stats import ttest_1samp, shapiro, levene, ttest_ind, mannwhitneyu, pearsonr, spearmanr, kendalltau,f_oneway, kruskal\n",
    "from statsmodels.stats.proportion import proportions_ztest\n",
    "import warnings\n",
    "warnings.filterwarnings('ignore')\n",
    "import os"
   ]
  },
  {
   "cell_type": "code",
   "execution_count": 90,
   "id": "096aac6c",
   "metadata": {},
   "outputs": [
    {
     "data": {
      "text/html": [
       "<div>\n",
       "<style scoped>\n",
       "    .dataframe tbody tr th:only-of-type {\n",
       "        vertical-align: middle;\n",
       "    }\n",
       "\n",
       "    .dataframe tbody tr th {\n",
       "        vertical-align: top;\n",
       "    }\n",
       "\n",
       "    .dataframe thead th {\n",
       "        text-align: right;\n",
       "    }\n",
       "</style>\n",
       "<table border=\"1\" class=\"dataframe\">\n",
       "  <thead>\n",
       "    <tr style=\"text-align: right;\">\n",
       "      <th></th>\n",
       "      <th>RecordID</th>\n",
       "      <th>IP Address</th>\n",
       "      <th>LoggedInFlag</th>\n",
       "      <th>ServerID</th>\n",
       "      <th>VisitPageFlag</th>\n",
       "    </tr>\n",
       "  </thead>\n",
       "  <tbody>\n",
       "    <tr>\n",
       "      <th>0</th>\n",
       "      <td>1</td>\n",
       "      <td>39.13.114.2</td>\n",
       "      <td>1</td>\n",
       "      <td>2</td>\n",
       "      <td>0</td>\n",
       "    </tr>\n",
       "    <tr>\n",
       "      <th>1</th>\n",
       "      <td>2</td>\n",
       "      <td>13.3.25.8</td>\n",
       "      <td>1</td>\n",
       "      <td>1</td>\n",
       "      <td>0</td>\n",
       "    </tr>\n",
       "    <tr>\n",
       "      <th>2</th>\n",
       "      <td>3</td>\n",
       "      <td>247.8.211.8</td>\n",
       "      <td>1</td>\n",
       "      <td>1</td>\n",
       "      <td>0</td>\n",
       "    </tr>\n",
       "    <tr>\n",
       "      <th>3</th>\n",
       "      <td>4</td>\n",
       "      <td>124.8.220.3</td>\n",
       "      <td>0</td>\n",
       "      <td>3</td>\n",
       "      <td>0</td>\n",
       "    </tr>\n",
       "    <tr>\n",
       "      <th>4</th>\n",
       "      <td>5</td>\n",
       "      <td>60.10.192.7</td>\n",
       "      <td>0</td>\n",
       "      <td>2</td>\n",
       "      <td>0</td>\n",
       "    </tr>\n",
       "  </tbody>\n",
       "</table>\n",
       "</div>"
      ],
      "text/plain": [
       "   RecordID   IP Address  LoggedInFlag  ServerID  VisitPageFlag\n",
       "0         1  39.13.114.2             1         2              0\n",
       "1         2    13.3.25.8             1         1              0\n",
       "2         3  247.8.211.8             1         1              0\n",
       "3         4  124.8.220.3             0         3              0\n",
       "4         5  60.10.192.7             0         2              0"
      ]
     },
     "execution_count": 90,
     "metadata": {},
     "output_type": "execute_result"
    }
   ],
   "source": [
    "#Read data\n",
    "df = pd.read_csv('/Users/geet/Documents/Projects_Git/AB_testing/A-B-testing-on-gorcery-website/Data/website_data.csv')\n",
    "df.head()"
   ]
  },
  {
   "cell_type": "code",
   "execution_count": 91,
   "id": "7903c31d",
   "metadata": {},
   "outputs": [
    {
     "data": {
      "text/plain": [
       "(184588, 5)"
      ]
     },
     "execution_count": 91,
     "metadata": {},
     "output_type": "execute_result"
    }
   ],
   "source": [
    "df.shape"
   ]
  },
  {
   "cell_type": "code",
   "execution_count": 92,
   "id": "4ef8d8f2",
   "metadata": {},
   "outputs": [
    {
     "name": "stdout",
     "output_type": "stream",
     "text": [
      "<class 'pandas.core.frame.DataFrame'>\n",
      "RangeIndex: 184588 entries, 0 to 184587\n",
      "Data columns (total 5 columns):\n",
      " #   Column         Non-Null Count   Dtype \n",
      "---  ------         --------------   ----- \n",
      " 0   RecordID       184588 non-null  int64 \n",
      " 1   IP Address     184588 non-null  object\n",
      " 2   LoggedInFlag   184588 non-null  int64 \n",
      " 3   ServerID       184588 non-null  int64 \n",
      " 4   VisitPageFlag  184588 non-null  int64 \n",
      "dtypes: int64(4), object(1)\n",
      "memory usage: 7.0+ MB\n"
     ]
    }
   ],
   "source": [
    "df.info()"
   ]
  },
  {
   "cell_type": "markdown",
   "id": "439be034",
   "metadata": {},
   "source": [
    "All the 184588 records are non null which means there no null values"
   ]
  },
  {
   "cell_type": "code",
   "execution_count": 93,
   "id": "d74f392e",
   "metadata": {},
   "outputs": [
    {
     "data": {
      "text/plain": [
       "RecordID         0\n",
       "IP Address       0\n",
       "LoggedInFlag     0\n",
       "ServerID         0\n",
       "VisitPageFlag    0\n",
       "dtype: int64"
      ]
     },
     "execution_count": 93,
     "metadata": {},
     "output_type": "execute_result"
    }
   ],
   "source": [
    "df.isnull().sum()"
   ]
  },
  {
   "cell_type": "markdown",
   "id": "6f6151a4",
   "metadata": {},
   "source": [
    "There are 0 null values as expected"
   ]
  },
  {
   "cell_type": "code",
   "execution_count": 94,
   "id": "e544acf6",
   "metadata": {},
   "outputs": [
    {
     "data": {
      "text/html": [
       "<div>\n",
       "<style scoped>\n",
       "    .dataframe tbody tr th:only-of-type {\n",
       "        vertical-align: middle;\n",
       "    }\n",
       "\n",
       "    .dataframe tbody tr th {\n",
       "        vertical-align: top;\n",
       "    }\n",
       "\n",
       "    .dataframe thead th {\n",
       "        text-align: right;\n",
       "    }\n",
       "</style>\n",
       "<table border=\"1\" class=\"dataframe\">\n",
       "  <thead>\n",
       "    <tr style=\"text-align: right;\">\n",
       "      <th></th>\n",
       "      <th>IP Address</th>\n",
       "      <th>LoggedInFlag</th>\n",
       "      <th>ServerID</th>\n",
       "      <th>VisitPageFlagSum</th>\n",
       "    </tr>\n",
       "  </thead>\n",
       "  <tbody>\n",
       "    <tr>\n",
       "      <th>0</th>\n",
       "      <td>0.0.108.2</td>\n",
       "      <td>0</td>\n",
       "      <td>1</td>\n",
       "      <td>0</td>\n",
       "    </tr>\n",
       "    <tr>\n",
       "      <th>1</th>\n",
       "      <td>0.0.109.6</td>\n",
       "      <td>1</td>\n",
       "      <td>1</td>\n",
       "      <td>0</td>\n",
       "    </tr>\n",
       "    <tr>\n",
       "      <th>2</th>\n",
       "      <td>0.0.111.8</td>\n",
       "      <td>0</td>\n",
       "      <td>3</td>\n",
       "      <td>0</td>\n",
       "    </tr>\n",
       "    <tr>\n",
       "      <th>3</th>\n",
       "      <td>0.0.160.9</td>\n",
       "      <td>1</td>\n",
       "      <td>2</td>\n",
       "      <td>0</td>\n",
       "    </tr>\n",
       "    <tr>\n",
       "      <th>4</th>\n",
       "      <td>0.0.163.1</td>\n",
       "      <td>0</td>\n",
       "      <td>2</td>\n",
       "      <td>0</td>\n",
       "    </tr>\n",
       "  </tbody>\n",
       "</table>\n",
       "</div>"
      ],
      "text/plain": [
       "  IP Address  LoggedInFlag  ServerID  VisitPageFlagSum\n",
       "0  0.0.108.2             0         1                 0\n",
       "1  0.0.109.6             1         1                 0\n",
       "2  0.0.111.8             0         3                 0\n",
       "3  0.0.160.9             1         2                 0\n",
       "4  0.0.163.1             0         2                 0"
      ]
     },
     "execution_count": 94,
     "metadata": {},
     "output_type": "execute_result"
    }
   ],
   "source": [
    "# Users who have visited the page multiple times using the same IP Address\n",
    "df = df.groupby([\"IP Address\", \"LoggedInFlag\", \"ServerID\"])[\"VisitPageFlag\"].sum().reset_index(name=\"VisitPageFlagSum\")\n",
    "df.head()"
   ]
  },
  {
   "cell_type": "code",
   "execution_count": 95,
   "id": "e969813e",
   "metadata": {},
   "outputs": [
    {
     "data": {
      "text/plain": [
       "0    89785\n",
       "1     9238\n",
       "2      719\n",
       "3       20\n",
       "4        1\n",
       "Name: VisitPageFlagSum, dtype: int64"
      ]
     },
     "execution_count": 95,
     "metadata": {},
     "output_type": "execute_result"
    }
   ],
   "source": [
    "df['VisitPageFlagSum'].value_counts()"
   ]
  },
  {
   "cell_type": "markdown",
   "id": "99738fd3",
   "metadata": {},
   "source": [
    "9238 users as visited the page atleast once"
   ]
  },
  {
   "cell_type": "code",
   "execution_count": 96,
   "id": "111907e5",
   "metadata": {},
   "outputs": [
    {
     "data": {
      "text/plain": [
       "count    99763.000000\n",
       "mean         0.107655\n",
       "std          0.334371\n",
       "min          0.000000\n",
       "25%          0.000000\n",
       "50%          0.000000\n",
       "75%          0.000000\n",
       "max          4.000000\n",
       "Name: VisitPageFlagSum, dtype: float64"
      ]
     },
     "execution_count": 96,
     "metadata": {},
     "output_type": "execute_result"
    }
   ],
   "source": [
    "#Statistics of Visits after grouping\n",
    "df['VisitPageFlagSum'].describe()\n"
   ]
  },
  {
   "cell_type": "code",
   "execution_count": 97,
   "id": "f89e79fb",
   "metadata": {},
   "outputs": [
    {
     "data": {
      "text/plain": [
       "<AxesSubplot:>"
      ]
     },
     "execution_count": 97,
     "metadata": {},
     "output_type": "execute_result"
    },
    {
     "data": {
      "image/png": "[encoded data removed]",
      "text/plain": [
       "<Figure size 640x480 with 1 Axes>"
      ]
     },
     "metadata": {},
     "output_type": "display_data"
    }
   ],
   "source": [
    "df['VisitPageFlagSum'].value_counts().hist()"
   ]
  },
  {
   "cell_type": "markdown",
   "id": "74a76bfc",
   "metadata": {},
   "source": [
    "From the histogram, it looks like 9000 plus users visit the page atleast once "
   ]
  },
  {
   "cell_type": "code",
   "execution_count": 98,
   "id": "ba0370d4",
   "metadata": {},
   "outputs": [
    {
     "data": {
      "text/html": [
       "<div>\n",
       "<style scoped>\n",
       "    .dataframe tbody tr th:only-of-type {\n",
       "        vertical-align: middle;\n",
       "    }\n",
       "\n",
       "    .dataframe tbody tr th {\n",
       "        vertical-align: top;\n",
       "    }\n",
       "\n",
       "    .dataframe thead th {\n",
       "        text-align: right;\n",
       "    }\n",
       "</style>\n",
       "<table border=\"1\" class=\"dataframe\">\n",
       "  <thead>\n",
       "    <tr style=\"text-align: right;\">\n",
       "      <th></th>\n",
       "      <th>IP Address</th>\n",
       "      <th>LoggedInFlag</th>\n",
       "      <th>ServerID</th>\n",
       "      <th>VisitPageFlagSum</th>\n",
       "      <th>VisitPageFlag</th>\n",
       "    </tr>\n",
       "  </thead>\n",
       "  <tbody>\n",
       "    <tr>\n",
       "      <th>0</th>\n",
       "      <td>0.0.108.2</td>\n",
       "      <td>0</td>\n",
       "      <td>1</td>\n",
       "      <td>0</td>\n",
       "      <td>0</td>\n",
       "    </tr>\n",
       "    <tr>\n",
       "      <th>1</th>\n",
       "      <td>0.0.109.6</td>\n",
       "      <td>1</td>\n",
       "      <td>1</td>\n",
       "      <td>0</td>\n",
       "      <td>0</td>\n",
       "    </tr>\n",
       "    <tr>\n",
       "      <th>2</th>\n",
       "      <td>0.0.111.8</td>\n",
       "      <td>0</td>\n",
       "      <td>3</td>\n",
       "      <td>0</td>\n",
       "      <td>0</td>\n",
       "    </tr>\n",
       "    <tr>\n",
       "      <th>3</th>\n",
       "      <td>0.0.160.9</td>\n",
       "      <td>1</td>\n",
       "      <td>2</td>\n",
       "      <td>0</td>\n",
       "      <td>0</td>\n",
       "    </tr>\n",
       "    <tr>\n",
       "      <th>4</th>\n",
       "      <td>0.0.163.1</td>\n",
       "      <td>0</td>\n",
       "      <td>2</td>\n",
       "      <td>0</td>\n",
       "      <td>0</td>\n",
       "    </tr>\n",
       "  </tbody>\n",
       "</table>\n",
       "</div>"
      ],
      "text/plain": [
       "  IP Address  LoggedInFlag  ServerID  VisitPageFlagSum  VisitPageFlag\n",
       "0  0.0.108.2             0         1                 0              0\n",
       "1  0.0.109.6             1         1                 0              0\n",
       "2  0.0.111.8             0         3                 0              0\n",
       "3  0.0.160.9             1         2                 0              0\n",
       "4  0.0.163.1             0         2                 0              0"
      ]
     },
     "execution_count": 98,
     "metadata": {},
     "output_type": "execute_result"
    }
   ],
   "source": [
    "#Visit value is reduced to 1 for users who have visited the page multiple times using the same IP Address.\n",
    "df[\"VisitPageFlag\"] = df[\"VisitPageFlagSum\"].apply(lambda x: 1 if x != 0 else 0)\n",
    "df.head()"
   ]
  },
  {
   "cell_type": "markdown",
   "id": "cd1a14be",
   "metadata": {},
   "source": [
    "To ensure unbiased results, implemented a data preprocessing step where the Visit value is reduced to 1 for users who have visited the page multiple times using the same IP Address. By doing this, we avoid any potential skew in the analysis caused by multiple visits from the same user. This adjustment allows us to focus on unique visits and maintain the integrity of the experiment's outcome,"
   ]
  },
  {
   "cell_type": "code",
   "execution_count": 99,
   "id": "6e9eb278",
   "metadata": {},
   "outputs": [
    {
     "data": {
      "text/html": [
       "<div>\n",
       "<style scoped>\n",
       "    .dataframe tbody tr th:only-of-type {\n",
       "        vertical-align: middle;\n",
       "    }\n",
       "\n",
       "    .dataframe tbody tr th {\n",
       "        vertical-align: top;\n",
       "    }\n",
       "\n",
       "    .dataframe thead th {\n",
       "        text-align: right;\n",
       "    }\n",
       "</style>\n",
       "<table border=\"1\" class=\"dataframe\">\n",
       "  <thead>\n",
       "    <tr style=\"text-align: right;\">\n",
       "      <th></th>\n",
       "      <th>IP Address</th>\n",
       "      <th>LoggedInFlag</th>\n",
       "      <th>ServerID</th>\n",
       "      <th>VisitPageFlagSum</th>\n",
       "      <th>VisitPageFlag</th>\n",
       "    </tr>\n",
       "  </thead>\n",
       "  <tbody>\n",
       "    <tr>\n",
       "      <th>0</th>\n",
       "      <td>0.0.108.2</td>\n",
       "      <td>0</td>\n",
       "      <td>1</td>\n",
       "      <td>0</td>\n",
       "      <td>0</td>\n",
       "    </tr>\n",
       "    <tr>\n",
       "      <th>1</th>\n",
       "      <td>0.0.109.6</td>\n",
       "      <td>1</td>\n",
       "      <td>1</td>\n",
       "      <td>0</td>\n",
       "      <td>0</td>\n",
       "    </tr>\n",
       "    <tr>\n",
       "      <th>2</th>\n",
       "      <td>0.0.111.8</td>\n",
       "      <td>0</td>\n",
       "      <td>3</td>\n",
       "      <td>0</td>\n",
       "      <td>0</td>\n",
       "    </tr>\n",
       "    <tr>\n",
       "      <th>3</th>\n",
       "      <td>0.0.160.9</td>\n",
       "      <td>1</td>\n",
       "      <td>2</td>\n",
       "      <td>0</td>\n",
       "      <td>0</td>\n",
       "    </tr>\n",
       "    <tr>\n",
       "      <th>4</th>\n",
       "      <td>0.0.163.1</td>\n",
       "      <td>0</td>\n",
       "      <td>2</td>\n",
       "      <td>0</td>\n",
       "      <td>0</td>\n",
       "    </tr>\n",
       "  </tbody>\n",
       "</table>\n",
       "</div>"
      ],
      "text/plain": [
       "  IP Address  LoggedInFlag  ServerID  VisitPageFlagSum  VisitPageFlag\n",
       "0  0.0.108.2             0         1                 0              0\n",
       "1  0.0.109.6             1         1                 0              0\n",
       "2  0.0.111.8             0         3                 0              0\n",
       "3  0.0.160.9             1         2                 0              0\n",
       "4  0.0.163.1             0         2                 0              0"
      ]
     },
     "execution_count": 99,
     "metadata": {},
     "output_type": "execute_result"
    }
   ],
   "source": [
    "df.head()"
   ]
  },
  {
   "cell_type": "markdown",
   "id": "8043bbbb",
   "metadata": {},
   "source": [
    "To divide the dataset into Test and Control groups, utilized the ServerID attribute. The Test group is composed of instances with a ServerID of 1, while the Control group consists of instances with ServerID 2 and 3. This grouping strategy ensures that we have distinct segments for conducting the A/B test analysis. By assigning different server IDs to each group, we can accurately measure and compare the impact of the interface change (orange button) on user behavior between the Test and Control groups."
   ]
  },
  {
   "cell_type": "code",
   "execution_count": 100,
   "id": "116df809",
   "metadata": {},
   "outputs": [],
   "source": [
    "# The Test group is composed of instances with a ServerID of 1,\n",
    "#while the Control group consists of instances with ServerID 2 and 3\n",
    "df['group'] = df['ServerID'].map({1:'Test', 2:'Control', 3:'Control'})\n",
    "df.drop(['ServerID','VisitPageFlagSum'],axis=1, inplace=True)"
   ]
  },
  {
   "cell_type": "code",
   "execution_count": 101,
   "id": "f9bde1a0",
   "metadata": {},
   "outputs": [
    {
     "data": {
      "text/html": [
       "<div>\n",
       "<style scoped>\n",
       "    .dataframe tbody tr th:only-of-type {\n",
       "        vertical-align: middle;\n",
       "    }\n",
       "\n",
       "    .dataframe tbody tr th {\n",
       "        vertical-align: top;\n",
       "    }\n",
       "\n",
       "    .dataframe thead th {\n",
       "        text-align: right;\n",
       "    }\n",
       "</style>\n",
       "<table border=\"1\" class=\"dataframe\">\n",
       "  <thead>\n",
       "    <tr style=\"text-align: right;\">\n",
       "      <th></th>\n",
       "      <th>IP Address</th>\n",
       "      <th>LoggedInFlag</th>\n",
       "      <th>VisitPageFlag</th>\n",
       "      <th>group</th>\n",
       "    </tr>\n",
       "  </thead>\n",
       "  <tbody>\n",
       "    <tr>\n",
       "      <th>0</th>\n",
       "      <td>0.0.108.2</td>\n",
       "      <td>0</td>\n",
       "      <td>0</td>\n",
       "      <td>Test</td>\n",
       "    </tr>\n",
       "    <tr>\n",
       "      <th>1</th>\n",
       "      <td>0.0.109.6</td>\n",
       "      <td>1</td>\n",
       "      <td>0</td>\n",
       "      <td>Test</td>\n",
       "    </tr>\n",
       "    <tr>\n",
       "      <th>2</th>\n",
       "      <td>0.0.111.8</td>\n",
       "      <td>0</td>\n",
       "      <td>0</td>\n",
       "      <td>Control</td>\n",
       "    </tr>\n",
       "    <tr>\n",
       "      <th>3</th>\n",
       "      <td>0.0.160.9</td>\n",
       "      <td>1</td>\n",
       "      <td>0</td>\n",
       "      <td>Control</td>\n",
       "    </tr>\n",
       "    <tr>\n",
       "      <th>4</th>\n",
       "      <td>0.0.163.1</td>\n",
       "      <td>0</td>\n",
       "      <td>0</td>\n",
       "      <td>Control</td>\n",
       "    </tr>\n",
       "  </tbody>\n",
       "</table>\n",
       "</div>"
      ],
      "text/plain": [
       "  IP Address  LoggedInFlag  VisitPageFlag    group\n",
       "0  0.0.108.2             0              0     Test\n",
       "1  0.0.109.6             1              0     Test\n",
       "2  0.0.111.8             0              0  Control\n",
       "3  0.0.160.9             1              0  Control\n",
       "4  0.0.163.1             0              0  Control"
      ]
     },
     "execution_count": 101,
     "metadata": {},
     "output_type": "execute_result"
    }
   ],
   "source": [
    "df.head()"
   ]
  },
  {
   "cell_type": "code",
   "execution_count": 102,
   "id": "d26795aa",
   "metadata": {},
   "outputs": [],
   "source": [
    "df_control = df[df['group'] == 'Control'].copy()\n",
    "df_control.reset_index(inplace=True, drop = True)"
   ]
  },
  {
   "cell_type": "code",
   "execution_count": 103,
   "id": "e82c651c",
   "metadata": {},
   "outputs": [
    {
     "data": {
      "text/html": [
       "<div>\n",
       "<style scoped>\n",
       "    .dataframe tbody tr th:only-of-type {\n",
       "        vertical-align: middle;\n",
       "    }\n",
       "\n",
       "    .dataframe tbody tr th {\n",
       "        vertical-align: top;\n",
       "    }\n",
       "\n",
       "    .dataframe thead th {\n",
       "        text-align: right;\n",
       "    }\n",
       "</style>\n",
       "<table border=\"1\" class=\"dataframe\">\n",
       "  <thead>\n",
       "    <tr style=\"text-align: right;\">\n",
       "      <th></th>\n",
       "      <th>IP Address</th>\n",
       "      <th>LoggedInFlag</th>\n",
       "      <th>VisitPageFlag</th>\n",
       "      <th>group</th>\n",
       "    </tr>\n",
       "  </thead>\n",
       "  <tbody>\n",
       "    <tr>\n",
       "      <th>0</th>\n",
       "      <td>0.0.111.8</td>\n",
       "      <td>0</td>\n",
       "      <td>0</td>\n",
       "      <td>Control</td>\n",
       "    </tr>\n",
       "    <tr>\n",
       "      <th>1</th>\n",
       "      <td>0.0.160.9</td>\n",
       "      <td>1</td>\n",
       "      <td>0</td>\n",
       "      <td>Control</td>\n",
       "    </tr>\n",
       "    <tr>\n",
       "      <th>2</th>\n",
       "      <td>0.0.163.1</td>\n",
       "      <td>0</td>\n",
       "      <td>0</td>\n",
       "      <td>Control</td>\n",
       "    </tr>\n",
       "    <tr>\n",
       "      <th>3</th>\n",
       "      <td>0.0.178.9</td>\n",
       "      <td>1</td>\n",
       "      <td>0</td>\n",
       "      <td>Control</td>\n",
       "    </tr>\n",
       "    <tr>\n",
       "      <th>4</th>\n",
       "      <td>0.0.185.4</td>\n",
       "      <td>1</td>\n",
       "      <td>0</td>\n",
       "      <td>Control</td>\n",
       "    </tr>\n",
       "  </tbody>\n",
       "</table>\n",
       "</div>"
      ],
      "text/plain": [
       "  IP Address  LoggedInFlag  VisitPageFlag    group\n",
       "0  0.0.111.8             0              0  Control\n",
       "1  0.0.160.9             1              0  Control\n",
       "2  0.0.163.1             0              0  Control\n",
       "3  0.0.178.9             1              0  Control\n",
       "4  0.0.185.4             1              0  Control"
      ]
     },
     "execution_count": 103,
     "metadata": {},
     "output_type": "execute_result"
    }
   ],
   "source": [
    "df_control.head()"
   ]
  },
  {
   "cell_type": "code",
   "execution_count": 104,
   "id": "74bd9169",
   "metadata": {},
   "outputs": [],
   "source": [
    "df_test = df[df['group'] == 'Test'].copy()\n",
    "df_test.reset_index(inplace=True, drop = True)\n"
   ]
  },
  {
   "cell_type": "code",
   "execution_count": 105,
   "id": "b98e7777",
   "metadata": {},
   "outputs": [
    {
     "data": {
      "text/html": [
       "<div>\n",
       "<style scoped>\n",
       "    .dataframe tbody tr th:only-of-type {\n",
       "        vertical-align: middle;\n",
       "    }\n",
       "\n",
       "    .dataframe tbody tr th {\n",
       "        vertical-align: top;\n",
       "    }\n",
       "\n",
       "    .dataframe thead th {\n",
       "        text-align: right;\n",
       "    }\n",
       "</style>\n",
       "<table border=\"1\" class=\"dataframe\">\n",
       "  <thead>\n",
       "    <tr style=\"text-align: right;\">\n",
       "      <th></th>\n",
       "      <th>IP Address</th>\n",
       "      <th>LoggedInFlag</th>\n",
       "      <th>VisitPageFlag</th>\n",
       "      <th>group</th>\n",
       "    </tr>\n",
       "  </thead>\n",
       "  <tbody>\n",
       "    <tr>\n",
       "      <th>0</th>\n",
       "      <td>0.0.111.8</td>\n",
       "      <td>0</td>\n",
       "      <td>0</td>\n",
       "      <td>Control</td>\n",
       "    </tr>\n",
       "    <tr>\n",
       "      <th>1</th>\n",
       "      <td>0.0.160.9</td>\n",
       "      <td>1</td>\n",
       "      <td>0</td>\n",
       "      <td>Control</td>\n",
       "    </tr>\n",
       "    <tr>\n",
       "      <th>2</th>\n",
       "      <td>0.0.163.1</td>\n",
       "      <td>0</td>\n",
       "      <td>0</td>\n",
       "      <td>Control</td>\n",
       "    </tr>\n",
       "    <tr>\n",
       "      <th>3</th>\n",
       "      <td>0.0.178.9</td>\n",
       "      <td>1</td>\n",
       "      <td>0</td>\n",
       "      <td>Control</td>\n",
       "    </tr>\n",
       "    <tr>\n",
       "      <th>4</th>\n",
       "      <td>0.0.185.4</td>\n",
       "      <td>1</td>\n",
       "      <td>0</td>\n",
       "      <td>Control</td>\n",
       "    </tr>\n",
       "    <tr>\n",
       "      <th>...</th>\n",
       "      <td>...</td>\n",
       "      <td>...</td>\n",
       "      <td>...</td>\n",
       "      <td>...</td>\n",
       "    </tr>\n",
       "    <tr>\n",
       "      <th>66455</th>\n",
       "      <td>99.9.3.3</td>\n",
       "      <td>1</td>\n",
       "      <td>0</td>\n",
       "      <td>Control</td>\n",
       "    </tr>\n",
       "    <tr>\n",
       "      <th>66456</th>\n",
       "      <td>99.9.45.1</td>\n",
       "      <td>1</td>\n",
       "      <td>0</td>\n",
       "      <td>Control</td>\n",
       "    </tr>\n",
       "    <tr>\n",
       "      <th>66457</th>\n",
       "      <td>99.9.53.7</td>\n",
       "      <td>1</td>\n",
       "      <td>0</td>\n",
       "      <td>Control</td>\n",
       "    </tr>\n",
       "    <tr>\n",
       "      <th>66458</th>\n",
       "      <td>99.9.65.2</td>\n",
       "      <td>0</td>\n",
       "      <td>0</td>\n",
       "      <td>Control</td>\n",
       "    </tr>\n",
       "    <tr>\n",
       "      <th>66459</th>\n",
       "      <td>99.9.79.6</td>\n",
       "      <td>1</td>\n",
       "      <td>0</td>\n",
       "      <td>Control</td>\n",
       "    </tr>\n",
       "  </tbody>\n",
       "</table>\n",
       "<p>66460 rows × 4 columns</p>\n",
       "</div>"
      ],
      "text/plain": [
       "      IP Address  LoggedInFlag  VisitPageFlag    group\n",
       "0      0.0.111.8             0              0  Control\n",
       "1      0.0.160.9             1              0  Control\n",
       "2      0.0.163.1             0              0  Control\n",
       "3      0.0.178.9             1              0  Control\n",
       "4      0.0.185.4             1              0  Control\n",
       "...          ...           ...            ...      ...\n",
       "66455   99.9.3.3             1              0  Control\n",
       "66456  99.9.45.1             1              0  Control\n",
       "66457  99.9.53.7             1              0  Control\n",
       "66458  99.9.65.2             0              0  Control\n",
       "66459  99.9.79.6             1              0  Control\n",
       "\n",
       "[66460 rows x 4 columns]"
      ]
     },
     "execution_count": 105,
     "metadata": {},
     "output_type": "execute_result"
    }
   ],
   "source": [
    "df_control"
   ]
  },
  {
   "cell_type": "markdown",
   "id": "0d4b20cf",
   "metadata": {},
   "source": [
    "In the control dataset, we will calculate the ratio of users who visit the specific page of interest to the total number of users who enter the website. This ratio, often referred to as the click-through rate (CTR), provides an indication of the effectiveness of the current interface (with the blue button) in driving user engagement.\n",
    "\n",
    "To calculate the CTR in the control dataset, we will divide the number of visits to the desired page by the total number of visits to the website. This ratio will give us valuable insights into the proportion of users who navigate to the targeted page among all visitors to the site. By comparing this CTR with the CTR in the test dataset (where the interface has been modified to feature an orange button), we can assess the impact of the interface change on user behavior and determine if the new design leads to a higher click-through rate."
   ]
  },
  {
   "cell_type": "code",
   "execution_count": 106,
   "id": "d50cc19e",
   "metadata": {},
   "outputs": [
    {
     "name": "stdout",
     "output_type": "stream",
     "text": [
      "Sum visit for control group:  66460\n"
     ]
    }
   ],
   "source": [
    "control_sum_visits = df_control['VisitPageFlag'].count()\n",
    "print(\"Sum visits for control group: \", control_sum_visits)"
   ]
  },
  {
   "cell_type": "code",
   "execution_count": 107,
   "id": "5e914d90",
   "metadata": {},
   "outputs": [
    {
     "name": "stdout",
     "output_type": "stream",
     "text": [
      "Visit Page target = 1 :  6131\n"
     ]
    }
   ],
   "source": [
    "control_visit_1 = df_control[df_control['VisitPageFlag'] ==1]['VisitPageFlag'].count()\n",
    "print(\"Visit Page target = 1 : \", control_visit_1)"
   ]
  },
  {
   "cell_type": "code",
   "execution_count": 109,
   "id": "5daa6fa4",
   "metadata": {},
   "outputs": [
    {
     "data": {
      "text/plain": [
       "0.09225097803189888"
      ]
     },
     "execution_count": 109,
     "metadata": {},
     "output_type": "execute_result"
    }
   ],
   "source": [
    "control_ratio_visits = control_visit_1/control_sum_visits\n",
    "control_ratio_visits"
   ]
  },
  {
   "cell_type": "markdown",
   "id": "4ccf868e",
   "metadata": {},
   "source": [
    "In the test group, we will also calculate the ratio of users who visit the specific page of interest to the total number of users who enter the website. This will allow us to compare the click-through rate (CTR) between the control group (with the blue button) and the test group (with the orange button) and determine the impact of the interface change on user engagement.\n",
    "\n",
    "To calculate the CTR in the test group, we will follow the same approach as in the control group. We will divide the number of visits to the desired page within the test group by the total number of visits to the website within the test group. This ratio will provide us with insights into the proportion of users who navigate to the targeted page among all visitors within the test group.\n",
    "\n",
    "By comparing the CTR in the control group with the CTR in the test group, we can evaluate the effectiveness of the interface change and determine if the modification to the button color has led to a significant difference in user behavior."
   ]
  },
  {
   "cell_type": "code",
   "execution_count": 110,
   "id": "6114b544",
   "metadata": {},
   "outputs": [
    {
     "name": "stdout",
     "output_type": "stream",
     "text": [
      "Sum visits for test group:  33303\n"
     ]
    }
   ],
   "source": [
    "test_sum_visits = df_test['VisitPageFlag'].count()\n",
    "print(\"Sum visits for test group: \", test_sum_visits)"
   ]
  },
  {
   "cell_type": "code",
   "execution_count": 112,
   "id": "87d0c3ab",
   "metadata": {},
   "outputs": [
    {
     "name": "stdout",
     "output_type": "stream",
     "text": [
      "Visit Page target = 1 :  3847\n"
     ]
    }
   ],
   "source": [
    "test_visit_1 = df_test[df_test['VisitPageFlag'] ==1]['VisitPageFlag'].count()\n",
    "print(\"Visit Page target = 1 : \", test_visit_1)"
   ]
  },
  {
   "cell_type": "code",
   "execution_count": 113,
   "id": "0552eaea",
   "metadata": {},
   "outputs": [
    {
     "data": {
      "text/plain": [
       "0.11551511875806984"
      ]
     },
     "execution_count": 113,
     "metadata": {},
     "output_type": "execute_result"
    }
   ],
   "source": [
    "test_ratio_visits = test_visit_1/test_sum_visits\n",
    "test_ratio_visits"
   ]
  },
  {
   "cell_type": "markdown",
   "id": "58f17e5d",
   "metadata": {},
   "source": [
    "There is an observed difference in click rates between the two groups but to know the if the difference is statistically different, A/B test comes to the rercue\n"
   ]
  },
  {
   "cell_type": "markdown",
   "id": "ccb1b33c",
   "metadata": {},
   "source": [
    "# A/B Test"
   ]
  },
  {
   "cell_type": "markdown",
   "id": "c806c1a0",
   "metadata": {},
   "source": [
    "\n",
    "To determine if there is a statistically significant difference between the control and test groups in terms of click rates, we will conduct A/B testing. A/B testing is a statistical method used to compare two groups and evaluate whether any observed differences are statistically significant or simply due to chance."
   ]
  },
  {
   "cell_type": "markdown",
   "id": "57e978dd",
   "metadata": {},
   "source": [
    "# Nomality test"
   ]
  },
  {
   "cell_type": "markdown",
   "id": "33b2b395",
   "metadata": {},
   "source": [
    "To check the assumption of normality, we will perform a statistical test to determine if the data follows a normal distribution. This will help us decide which hypothesis test to apply for the A/B testing.\n",
    "\n",
    "To test the assumption of normality, we can use methods such as the Shapiro-Wilk test or the Kolmogorov-Smirnov test. These tests evaluate whether the data significantly deviates from a normal distribution.\n",
    "\n",
    "The hypotheses for testing normality are as follows:\n",
    "H0: The data follows a normal distribution.\n",
    "H1: The data does not follow a normal distribution.\n",
    "\n",
    "By conducting the appropriate normality test on the dataset, we can assess whether the assumption of normality is satisfied. If the p-value of the test is greater than the significance level (e.g., 0.05), we fail to reject the null hypothesis and conclude that the data follows a normal distribution. In such cases, we can proceed with the independent two-sample t-test, assuming variance homogeneity is also satisfied.\n",
    "\n",
    "However, if the data does not pass the normality test, we reject the null hypothesis and conclude that the data does not follow a normal distribution. In this situation, we would proceed with the Mann-Whitney U test, which is a non-parametric test that does not assume a normal distribution.\n",
    "\n",
    "Performing these tests will provide us with valuable insights into whether the assumptions required for A/B testing are met, allowing us to confidently analyze and compare the results between the control and test groups."
   ]
  },
  {
   "cell_type": "code",
   "execution_count": 114,
   "id": "129b17fe",
   "metadata": {},
   "outputs": [
    {
     "name": "stdout",
     "output_type": "stream",
     "text": [
      "Test Stat = 0.3266, p-value = 0.0000\n"
     ]
    }
   ],
   "source": [
    "test_stat_control, pvalue_control = shapiro(df_control[\"VisitPageFlag\"])\n",
    "print('Test Stat = %.4f, p-value = %.4f' % (test_stat_control, pvalue_control))"
   ]
  },
  {
   "cell_type": "code",
   "execution_count": 115,
   "id": "57bd10af",
   "metadata": {},
   "outputs": [
    {
     "name": "stdout",
     "output_type": "stream",
     "text": [
      "Test Stat = 0.3711, p-value = 0.0000\n"
     ]
    }
   ],
   "source": [
    "test_stat_test, pvalue_test = shapiro(df_test[\"VisitPageFlag\"])\n",
    "print('Test Stat = %.4f, p-value = %.4f' % (test_stat_test, pvalue_test))"
   ]
  },
  {
   "cell_type": "markdown",
   "id": "3d2e2923",
   "metadata": {},
   "source": [
    "The null hypothesis (H0) is rejected as the p-value is <0.05, indicating that the assumption of normality was not satisfied. Therefore, we will proceed with the Mann-Whitney U test.\n",
    "\n",
    "H0: There is no significant difference between the two groups in terms of click rate to the target page.\n",
    "H1: There is a difference."
   ]
  },
  {
   "cell_type": "code",
   "execution_count": 116,
   "id": "660dc9da",
   "metadata": {},
   "outputs": [
    {
     "name": "stdout",
     "output_type": "stream",
     "text": [
      "Test Stat = 1080913226.5000, p-value = 0.0000\n"
     ]
    }
   ],
   "source": [
    "test_stat, pvalue = mannwhitneyu(df_control[\"VisitPageFlag\"],\n",
    "                                 df_test[\"VisitPageFlag\"])\n",
    "print('Test Stat = %.4f, p-value = %.4f' % (test_stat, pvalue))\n"
   ]
  },
  {
   "cell_type": "markdown",
   "id": "96055e79",
   "metadata": {},
   "source": [
    "The null hypothesis (H0) is rejected as the p-value is less than 0.05, indicating a statistically significant difference between the two groups."
   ]
  },
  {
   "cell_type": "code",
   "execution_count": 117,
   "id": "876a7061",
   "metadata": {},
   "outputs": [],
   "source": [
    "group_count = df.groupby(['group', 'VisitPageFlag'])['group'].count().reset_index(name='Count')\n"
   ]
  },
  {
   "cell_type": "code",
   "execution_count": 118,
   "id": "ff5ec9fd",
   "metadata": {},
   "outputs": [],
   "source": [
    "#Creating a cross-tabulation table that summarizes the count of visitors in each group \n",
    "#who either entered or did not enter the desired page.\n",
    "groupped = pd.crosstab(group_count['group'], group_count['VisitPageFlag'], values=group_count['Count'], aggfunc=np.sum, margins=True)"
   ]
  },
  {
   "cell_type": "code",
   "execution_count": 119,
   "id": "20b5eb0f",
   "metadata": {},
   "outputs": [
    {
     "data": {
      "text/html": [
       "<div>\n",
       "<style scoped>\n",
       "    .dataframe tbody tr th:only-of-type {\n",
       "        vertical-align: middle;\n",
       "    }\n",
       "\n",
       "    .dataframe tbody tr th {\n",
       "        vertical-align: top;\n",
       "    }\n",
       "\n",
       "    .dataframe thead th {\n",
       "        text-align: right;\n",
       "    }\n",
       "</style>\n",
       "<table border=\"1\" class=\"dataframe\">\n",
       "  <thead>\n",
       "    <tr style=\"text-align: right;\">\n",
       "      <th>VisitPageFlag</th>\n",
       "      <th>0</th>\n",
       "      <th>1</th>\n",
       "      <th>All</th>\n",
       "    </tr>\n",
       "    <tr>\n",
       "      <th>group</th>\n",
       "      <th></th>\n",
       "      <th></th>\n",
       "      <th></th>\n",
       "    </tr>\n",
       "  </thead>\n",
       "  <tbody>\n",
       "    <tr>\n",
       "      <th>Control</th>\n",
       "      <td>90.774902</td>\n",
       "      <td>9.225098</td>\n",
       "      <td>100.0</td>\n",
       "    </tr>\n",
       "    <tr>\n",
       "      <th>Test</th>\n",
       "      <td>88.448488</td>\n",
       "      <td>11.551512</td>\n",
       "      <td>100.0</td>\n",
       "    </tr>\n",
       "    <tr>\n",
       "      <th>All</th>\n",
       "      <td>89.998296</td>\n",
       "      <td>10.001704</td>\n",
       "      <td>100.0</td>\n",
       "    </tr>\n",
       "  </tbody>\n",
       "</table>\n",
       "</div>"
      ],
      "text/plain": [
       "VisitPageFlag          0          1    All\n",
       "group                                     \n",
       "Control        90.774902   9.225098  100.0\n",
       "Test           88.448488  11.551512  100.0\n",
       "All            89.998296  10.001704  100.0"
      ]
     },
     "execution_count": 119,
     "metadata": {},
     "output_type": "execute_result"
    }
   ],
   "source": [
    "#calculates the percentage distribution of each value in the groupped contingency table \n",
    "#relative to the 'All' column, multiplied by 100.\n",
    "\n",
    "100*groupped.div(groupped['All'], axis=0)\n"
   ]
  },
  {
   "cell_type": "markdown",
   "id": "51dac7cb",
   "metadata": {},
   "source": [
    "# Conclusion"
   ]
  },
  {
   "cell_type": "markdown",
   "id": "e7b0ccd9",
   "metadata": {},
   "source": [
    "The click-through rate in the Control group was 9.22%, while it increased to 11.55% in the Test group. Based on our statistical tests, \n",
    "we can conclude that this increase is not due to chance and is statistically significant. Hence, we can launch the application."
   ]
  },
  {
   "cell_type": "markdown",
   "id": "bd1b8d6d",
   "metadata": {},
   "source": [
    "## The following are some suggested areas for further improvement in this A/B testing process:\n",
    "\n",
    "\n",
    "Performing power analysis to determine the appropriate sample size for the experiment.\n",
    "Considering effect sizes, confidence intervals, and practical significance."
   ]
  },
  {
   "cell_type": "code",
   "execution_count": 120,
   "id": "c88b2a1b",
   "metadata": {},
   "outputs": [
    {
     "name": "stdout",
     "output_type": "stream",
     "text": [
      "Collecting pingouin\n",
      "  Downloading pingouin-0.5.3-py3-none-any.whl (198 kB)\n",
      "\u001b[2K     \u001b[90m━━━━━━━━━━━━━━━━━━━━━━━━━━━━━━━━━━━━━━━\u001b[0m \u001b[32m198.6/198.6 kB\u001b[0m \u001b[31m2.6 MB/s\u001b[0m eta \u001b[36m0:00:00\u001b[0m00:01\u001b[0m\n",
      "\u001b[?25hRequirement already satisfied: tabulate in /opt/anaconda3/lib/python3.9/site-packages (from pingouin) (0.8.10)\n",
      "Requirement already satisfied: numpy>=1.19 in /opt/anaconda3/lib/python3.9/site-packages (from pingouin) (1.23.5)\n",
      "Requirement already satisfied: scipy>=1.7 in /opt/anaconda3/lib/python3.9/site-packages (from pingouin) (1.9.1)\n",
      "Requirement already satisfied: pandas>=1.0 in /opt/anaconda3/lib/python3.9/site-packages (from pingouin) (1.4.4)\n",
      "Requirement already satisfied: matplotlib>=3.0.2 in /opt/anaconda3/lib/python3.9/site-packages (from pingouin) (3.5.2)\n",
      "Collecting pandas-flavor>=0.2.0\n",
      "  Downloading pandas_flavor-0.5.0-py3-none-any.whl (7.1 kB)\n",
      "Collecting outdated\n",
      "  Downloading outdated-0.2.2-py2.py3-none-any.whl (7.5 kB)\n",
      "Requirement already satisfied: scikit-learn in /opt/anaconda3/lib/python3.9/site-packages (from pingouin) (1.0.2)\n",
      "Requirement already satisfied: seaborn>=0.11 in /opt/anaconda3/lib/python3.9/site-packages (from pingouin) (0.11.2)\n",
      "Requirement already satisfied: statsmodels>=0.13 in /opt/anaconda3/lib/python3.9/site-packages (from pingouin) (0.13.2)\n",
      "Requirement already satisfied: fonttools>=4.22.0 in /opt/anaconda3/lib/python3.9/site-packages (from matplotlib>=3.0.2->pingouin) (4.25.0)\n",
      "Requirement already satisfied: cycler>=0.10 in /opt/anaconda3/lib/python3.9/site-packages (from matplotlib>=3.0.2->pingouin) (0.11.0)\n",
      "Requirement already satisfied: pillow>=6.2.0 in /opt/anaconda3/lib/python3.9/site-packages (from matplotlib>=3.0.2->pingouin) (9.4.0)\n",
      "Requirement already satisfied: kiwisolver>=1.0.1 in /opt/anaconda3/lib/python3.9/site-packages (from matplotlib>=3.0.2->pingouin) (1.4.2)\n",
      "Requirement already satisfied: python-dateutil>=2.7 in /opt/anaconda3/lib/python3.9/site-packages (from matplotlib>=3.0.2->pingouin) (2.8.2)\n",
      "Requirement already satisfied: packaging>=20.0 in /opt/anaconda3/lib/python3.9/site-packages (from matplotlib>=3.0.2->pingouin) (21.3)\n",
      "Requirement already satisfied: pyparsing>=2.2.1 in /opt/anaconda3/lib/python3.9/site-packages (from matplotlib>=3.0.2->pingouin) (3.0.9)\n",
      "Requirement already satisfied: pytz>=2020.1 in /opt/anaconda3/lib/python3.9/site-packages (from pandas>=1.0->pingouin) (2022.1)\n",
      "Requirement already satisfied: xarray in /opt/anaconda3/lib/python3.9/site-packages (from pandas-flavor>=0.2.0->pingouin) (0.20.1)\n",
      "Collecting lazy-loader>=0.1\n",
      "  Downloading lazy_loader-0.2-py3-none-any.whl (8.6 kB)\n",
      "Requirement already satisfied: patsy>=0.5.2 in /opt/anaconda3/lib/python3.9/site-packages (from statsmodels>=0.13->pingouin) (0.5.2)\n",
      "Requirement already satisfied: setuptools>=44 in /opt/anaconda3/lib/python3.9/site-packages (from outdated->pingouin) (63.4.1)\n",
      "Requirement already satisfied: requests in /opt/anaconda3/lib/python3.9/site-packages (from outdated->pingouin) (2.28.1)\n",
      "Collecting littleutils\n",
      "  Downloading littleutils-0.2.2.tar.gz (6.6 kB)\n",
      "  Preparing metadata (setup.py) ... \u001b[?25ldone\n",
      "\u001b[?25hRequirement already satisfied: threadpoolctl>=2.0.0 in /opt/anaconda3/lib/python3.9/site-packages (from scikit-learn->pingouin) (2.2.0)\n",
      "Requirement already satisfied: joblib>=0.11 in /opt/anaconda3/lib/python3.9/site-packages (from scikit-learn->pingouin) (1.1.0)\n",
      "Requirement already satisfied: six in /opt/anaconda3/lib/python3.9/site-packages (from patsy>=0.5.2->statsmodels>=0.13->pingouin) (1.16.0)\n",
      "Requirement already satisfied: charset-normalizer<3,>=2 in /opt/anaconda3/lib/python3.9/site-packages (from requests->outdated->pingouin) (2.0.4)\n",
      "Requirement already satisfied: idna<4,>=2.5 in /opt/anaconda3/lib/python3.9/site-packages (from requests->outdated->pingouin) (3.3)\n",
      "Requirement already satisfied: certifi>=2017.4.17 in /opt/anaconda3/lib/python3.9/site-packages (from requests->outdated->pingouin) (2022.9.24)\n",
      "Requirement already satisfied: urllib3<1.27,>=1.21.1 in /opt/anaconda3/lib/python3.9/site-packages (from requests->outdated->pingouin) (1.26.11)\n",
      "Building wheels for collected packages: littleutils\n",
      "  Building wheel for littleutils (setup.py) ... \u001b[?25ldone\n",
      "\u001b[?25h  Created wheel for littleutils: filename=littleutils-0.2.2-py3-none-any.whl size=7028 sha256=631763936136ccc43a6910534a0d336dfd667499614e4c78222c8c8f7d49aabf\n",
      "  Stored in directory: /Users/geet/Library/Caches/pip/wheels/04/bb/0d/2d02ec45f29c48d6192476bfb59c5a0e64b605e7212374dd15\n",
      "Successfully built littleutils\n",
      "Installing collected packages: littleutils, lazy-loader, outdated, pandas-flavor, pingouin\n",
      "Successfully installed lazy-loader-0.2 littleutils-0.2.2 outdated-0.2.2 pandas-flavor-0.5.0 pingouin-0.5.3\n",
      "Note: you may need to restart the kernel to use updated packages.\n"
     ]
    }
   ],
   "source": [
    "pip install pingouin\n"
   ]
  },
  {
   "cell_type": "code",
   "execution_count": null,
   "id": "987c4fe3",
   "metadata": {},
   "outputs": [],
   "source": []
  }
 ],
 "metadata": {
  "kernelspec": {
   "display_name": "Python 3 (ipykernel)",
   "language": "python",
   "name": "python3"
  },
  "language_info": {
   "codemirror_mode": {
    "name": "ipython",
    "version": 3
   },
   "file_extension": ".py",
   "mimetype": "text/x-python",
   "name": "python",
   "nbconvert_exporter": "python",
   "pygments_lexer": "ipython3",
   "version": "3.9.13"
  }
 },
 "nbformat": 4,
 "nbformat_minor": 5
}
